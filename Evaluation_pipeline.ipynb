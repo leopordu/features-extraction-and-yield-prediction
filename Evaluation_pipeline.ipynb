{
 "cells": [
  {
   "cell_type": "markdown",
   "id": "c60e18f2",
   "metadata": {},
   "source": [
    "This pipeline helps in iterative incremental prediction of using features by import\n",
    "4 datasets of ranked features were evaluted\n",
    "1."
   ]
  },
  {
   "cell_type": "code",
   "execution_count": 1,
   "id": "992dfef0",
   "metadata": {
    "scrolled": false
   },
   "outputs": [],
   "source": [
    "import pandas as pd\n",
    "from sklearn.preprocessing import LabelEncoder\n",
    "from sklearn.model_selection import train_test_split\n",
    "from sklearn.ensemble import RandomForestRegressor\n",
    "from sklearn.metrics import mean_squared_error,r2_score\n",
    "import matplotlib.pyplot as plt\n",
    "import seaborn as sns\n",
    "import shap \n",
    "import numpy as np"
   ]
  },
  {
   "cell_type": "markdown",
   "id": "465bfbf7",
   "metadata": {},
   "source": [
    "Install scikit-learn"
   ]
  },
  {
   "cell_type": "code",
   "execution_count": 2,
   "id": "f08bae15",
   "metadata": {
    "scrolled": false
   },
   "outputs": [],
   "source": [
    "data = pd.read_csv(\"Data/All_data.csv\")\n"
   ]
  },
  {
   "cell_type": "markdown",
   "id": "bab71494",
   "metadata": {},
   "source": [
    "Dataset"
   ]
  },
  {
   "cell_type": "code",
   "execution_count": 3,
   "id": "d0ee74aa",
   "metadata": {
    "scrolled": true
   },
   "outputs": [],
   "source": [
    "df_HFR_NO_FE=df_HFR_combined=pd.read_csv(\"Data/All_data.csv\")\n",
    "df_HFR_combined=pd.read_csv(\"Data/hmf_ranked.csv\") #ranked features by HMF\n",
    "df_HFR_mi=pd.read_csv(\"Data/mi_ranked_data.csv\")    #Rnaked feeatures by mutual information\n",
    "df_HFR_F=pd.read_csv(\"Data/f_regression_ranked_data.csv\")#Ranked feeatures by f regression\n",
    "df_HFR_cost=pd.read_csv(\"Data/cost_ranked_data.csv\")\n"
   ]
  },
  {
   "cell_type": "markdown",
   "id": "f8aa9667",
   "metadata": {
    "scrolled": true
   },
   "source": [
    "#Adding the yield column"
   ]
  },
  {
   "cell_type": "code",
   "execution_count": 4,
   "id": "27dd2130",
   "metadata": {
    "scrolled": false
   },
   "outputs": [],
   "source": [
    "df_HFR_NO_FE[\"Yield\"]=data['Yield']"
   ]
  },
  {
   "cell_type": "code",
   "execution_count": 5,
   "id": "df810627",
   "metadata": {
    "scrolled": false
   },
   "outputs": [],
   "source": [
    "df_HFR_combined[\"Yield\"]=data['Yield']"
   ]
  },
  {
   "cell_type": "code",
   "execution_count": 6,
   "id": "710dde12",
   "metadata": {
    "scrolled": false
   },
   "outputs": [],
   "source": [
    "df_HFR_mi[\"Yield\"]=data['Yield']"
   ]
  },
  {
   "cell_type": "code",
   "execution_count": 7,
   "id": "b12aa3f7",
   "metadata": {
    "scrolled": false
   },
   "outputs": [],
   "source": [
    "df_HFR_F[\"Yield\"]=data['Yield']"
   ]
  },
  {
   "cell_type": "code",
   "execution_count": 8,
   "id": "39f97e4c",
   "metadata": {
    "scrolled": false
   },
   "outputs": [],
   "source": [
    "df_HFR_cost[\"Yield\"]=data['Yield']"
   ]
  },
  {
   "cell_type": "markdown",
   "id": "43794162",
   "metadata": {},
   "source": [
    "Datatypes"
   ]
  },
  {
   "cell_type": "markdown",
   "id": "8f10b3e1",
   "metadata": {},
   "source": [
    "Encoding"
   ]
  },
  {
   "cell_type": "code",
   "execution_count": 9,
   "id": "7b12a585",
   "metadata": {
    "scrolled": false
   },
   "outputs": [],
   "source": [
    "ec=LabelEncoder()\n"
   ]
  },
  {
   "cell_type": "code",
   "execution_count": 10,
   "id": "cce12170",
   "metadata": {
    "scrolled": false
   },
   "outputs": [],
   "source": [
    "df_HFR_NO_FE[\"CRP\"]=ec.fit_transform(df_HFR_NO_FE[\"CRP\"])"
   ]
  },
  {
   "cell_type": "code",
   "execution_count": 11,
   "id": "e8e02f2c",
   "metadata": {
    "scrolled": false
   },
   "outputs": [],
   "source": [
    "df_HFR_combined[\"CRP\"]=ec.fit_transform(df_HFR_combined[\"CRP\"])"
   ]
  },
  {
   "cell_type": "code",
   "execution_count": 12,
   "id": "985a25b7",
   "metadata": {
    "scrolled": false
   },
   "outputs": [],
   "source": [
    "df_HFR_mi[\"CRP\"]=ec.fit_transform(df_HFR_mi[\"CRP\"])"
   ]
  },
  {
   "cell_type": "code",
   "execution_count": 13,
   "id": "d2a8b8c6",
   "metadata": {
    "scrolled": false
   },
   "outputs": [],
   "source": [
    "df_HFR_F[\"CRP\"]=ec.fit_transform(df_HFR_F[\"CRP\"])"
   ]
  },
  {
   "cell_type": "code",
   "execution_count": 14,
   "id": "c6f11268",
   "metadata": {
    "scrolled": false
   },
   "outputs": [],
   "source": [
    "df_HFR_cost[\"CRP\"]=ec.fit_transform(df_HFR_cost[\"CRP\"])"
   ]
  },
  {
   "cell_type": "markdown",
   "id": "e9484b52",
   "metadata": {},
   "source": [
    "Define features columns and Target Variable"
   ]
  },
  {
   "cell_type": "code",
   "execution_count": 15,
   "id": "e974d3b4",
   "metadata": {
    "scrolled": false
   },
   "outputs": [],
   "source": [
    "#X=df_HFR.drop([\"Yield\"],axis=1)\n",
    "Y=df_HFR_NO_FE[\"Yield\"]"
   ]
  },
  {
   "cell_type": "code",
   "execution_count": 16,
   "id": "2611644c",
   "metadata": {
    "scrolled": false
   },
   "outputs": [],
   "source": [
    "X_df_HFR_NO_FE=df_HFR_NO_FE.drop(columns=['District', 'Center','preciptype','VIS',\"Yield\"],axis=1)"
   ]
  },
  {
   "cell_type": "code",
   "execution_count": 17,
   "id": "394ff7db",
   "metadata": {
    "scrolled": false
   },
   "outputs": [],
   "source": [
    "X_df_HFR_combined=df_HFR_combined.drop([\"Yield\"],axis=1)"
   ]
  },
  {
   "cell_type": "code",
   "execution_count": 18,
   "id": "18f1c8de",
   "metadata": {
    "scrolled": false
   },
   "outputs": [],
   "source": [
    "X_df_HFR_mi=df_HFR_mi.drop([\"Yield\"],axis=1)"
   ]
  },
  {
   "cell_type": "code",
   "execution_count": 19,
   "id": "337a2e88",
   "metadata": {
    "scrolled": false
   },
   "outputs": [],
   "source": [
    "X_df_HFR_F=df_HFR_F.drop([\"Yield\"],axis=1)"
   ]
  },
  {
   "cell_type": "code",
   "execution_count": 20,
   "id": "bf532f16",
   "metadata": {
    "scrolled": false
   },
   "outputs": [],
   "source": [
    "X_df_HFR_cost=df_HFR_cost.drop(columns=['preciptype','VIS',\"Yield\"],axis=1)"
   ]
  },
  {
   "cell_type": "code",
   "execution_count": 21,
   "id": "2c4d6dea",
   "metadata": {
    "scrolled": false
   },
   "outputs": [],
   "source": [
    "#X2=(X.iloc[:,0:19])"
   ]
  },
  {
   "cell_type": "code",
   "execution_count": 22,
   "id": "0427fe73",
   "metadata": {
    "scrolled": false
   },
   "outputs": [],
   "source": [
    "#X1=X.drop(\"TN\",axis=1)"
   ]
  },
  {
   "cell_type": "code",
   "execution_count": 23,
   "id": "6d6fd5b9",
   "metadata": {
    "scrolled": false
   },
   "outputs": [],
   "source": [
    "X1_df_HFR_NO_FE=X_df_HFR_NO_FE.iloc[:,0:49]"
   ]
  },
  {
   "cell_type": "code",
   "execution_count": 24,
   "id": "cb332359",
   "metadata": {
    "scrolled": false
   },
   "outputs": [],
   "source": [
    "X1_df_HFR_combined=X_df_HFR_combined.iloc[:,0:50]"
   ]
  },
  {
   "cell_type": "code",
   "execution_count": 25,
   "id": "6a778298",
   "metadata": {
    "scrolled": false
   },
   "outputs": [],
   "source": [
    "X1_df_HFR_mi=X_df_HFR_mi.iloc[:,0:50]"
   ]
  },
  {
   "cell_type": "code",
   "execution_count": 26,
   "id": "7b917670",
   "metadata": {
    "scrolled": false
   },
   "outputs": [],
   "source": [
    "X1_df_HFR_F=X_df_HFR_F.iloc[:,0:50]"
   ]
  },
  {
   "cell_type": "code",
   "execution_count": 27,
   "id": "c20839dd",
   "metadata": {
    "scrolled": false
   },
   "outputs": [],
   "source": [
    "X1_df_HFR_cost=X_df_HFR_cost.iloc[:,0:50]"
   ]
  },
  {
   "cell_type": "code",
   "execution_count": 28,
   "id": "3a1b707f",
   "metadata": {
    "scrolled": false
   },
   "outputs": [],
   "source": [
    "#X1_df_HFR_NO_FE"
   ]
  },
  {
   "cell_type": "code",
   "execution_count": 29,
   "id": "4623e583",
   "metadata": {
    "scrolled": false
   },
   "outputs": [],
   "source": [
    "#X1_df_HFR_combined"
   ]
  },
  {
   "cell_type": "code",
   "execution_count": 30,
   "id": "62968f7b",
   "metadata": {
    "scrolled": false
   },
   "outputs": [],
   "source": [
    "#X1_df_HFR_mi"
   ]
  },
  {
   "cell_type": "code",
   "execution_count": 31,
   "id": "7d4be3d7",
   "metadata": {
    "scrolled": false
   },
   "outputs": [],
   "source": [
    "#X1_df_HFR_F"
   ]
  },
  {
   "cell_type": "code",
   "execution_count": 32,
   "id": "e4940f26",
   "metadata": {
    "scrolled": false
   },
   "outputs": [],
   "source": [
    "#X1_df_HFR_cost"
   ]
  },
  {
   "cell_type": "markdown",
   "id": "675f0993",
   "metadata": {},
   "source": [
    "Predicting using features identified by five methods:"
   ]
  },
  {
   "cell_type": "code",
   "execution_count": 33,
   "id": "097c29f4",
   "metadata": {
    "scrolled": false
   },
   "outputs": [],
   "source": [
    "#X1=df_HFR[[\"SLT\",\"N\",\"TN\",\"CLY\",\"LAT\",\"ST10\",\"BDN\",\"CEC\",\"P\",\"MAP\",\"ELV\",\"ST04\",\"CRP\",\"K\",\"MON\",\"WDIR\"]]"
   ]
  },
  {
   "cell_type": "markdown",
   "id": "efe2f4f6",
   "metadata": {},
   "source": [
    "Predicting using fetaures Identified by SHAP"
   ]
  },
  {
   "cell_type": "code",
   "execution_count": 34,
   "id": "b97936db",
   "metadata": {
    "scrolled": false
   },
   "outputs": [],
   "source": [
    "#X1=data[[\"N\",\"ST01\",\"K\",\"P\",\"T0\",\"LAT\",\"CRP\",\"BDN\",\"CLY\",\"WGST\",\"MAP\",\"WDIR\",\"SLT\",\"ELV\",\"CLDC\",\"S04\",\"CEC\",\"ST10\",\"SMV10\",\"WSPD\"]]"
   ]
  },
  {
   "cell_type": "code",
   "execution_count": 35,
   "id": "db70faee",
   "metadata": {
    "scrolled": false
   },
   "outputs": [],
   "source": [
    "#X1[\"CRP\"]=ec.fit_transform(X1[\"CRP\"])"
   ]
  },
  {
   "cell_type": "markdown",
   "id": "fcc626d5",
   "metadata": {},
   "source": [
    "Prediting using features idenfified by LIME"
   ]
  },
  {
   "cell_type": "code",
   "execution_count": 36,
   "id": "5b845ed1",
   "metadata": {
    "scrolled": false
   },
   "outputs": [],
   "source": [
    "#X1=data[[\"N\", \"WGST\", \"BDN\", \"ST01\", \"LONG\", \"K\", \"WDIR\", \"DEW\", \"T0\", \"SND\", \"P\", \"ELV\", \"MAP\", \"ST10\", \"FL\", \"LAT\", \"CLDC\", \"WSPD\", \"ST20\", \"SM01\"]]"
   ]
  },
  {
   "cell_type": "markdown",
   "id": "3ea34985",
   "metadata": {},
   "source": [
    "Split the dataset"
   ]
  },
  {
   "cell_type": "code",
   "execution_count": 37,
   "id": "50424285",
   "metadata": {
    "scrolled": false
   },
   "outputs": [],
   "source": [
    "X1_df_HFR_NO_FE_train,X1_df_HFR_NO_FE_test,Y_train,Y_test=train_test_split(X1_df_HFR_NO_FE,Y,test_size=.3,random_state=0)"
   ]
  },
  {
   "cell_type": "code",
   "execution_count": 38,
   "id": "28ded5f8",
   "metadata": {
    "scrolled": false
   },
   "outputs": [],
   "source": [
    "X1_df_HFR_combined,X1_df_HFR_combined_test,Y_train,Y_test=train_test_split(X1_df_HFR_combined,Y,test_size=.3,random_state=0)"
   ]
  },
  {
   "cell_type": "code",
   "execution_count": 39,
   "id": "6ebbc278",
   "metadata": {
    "scrolled": false
   },
   "outputs": [],
   "source": [
    "X1_df_HFR_mi_train,X1_df_HFR_mi_test,Y_train,Y_test=train_test_split(X1_df_HFR_mi,Y,test_size=.3,random_state=0)"
   ]
  },
  {
   "cell_type": "code",
   "execution_count": 40,
   "id": "06fa7b15",
   "metadata": {
    "scrolled": false
   },
   "outputs": [],
   "source": [
    "X1_df_HFR_F_train,X1_df_HFR_F_test,Y_train,Y_test=train_test_split(X1_df_HFR_F,Y,test_size=.3,random_state=0)"
   ]
  },
  {
   "cell_type": "code",
   "execution_count": 41,
   "id": "486a3d78",
   "metadata": {
    "scrolled": false
   },
   "outputs": [],
   "source": [
    "X1_df_HFR_cost_train,X1_df_HFR_cost_test,Y_train,Y_test=train_test_split(X1_df_HFR_cost,Y,test_size=.3,random_state=0)"
   ]
  },
  {
   "cell_type": "code",
   "execution_count": null,
   "id": "820e3406",
   "metadata": {
    "scrolled": false
   },
   "outputs": [],
   "source": []
  },
  {
   "cell_type": "markdown",
   "id": "81086e43",
   "metadata": {},
   "source": [
    "Making prediction with Random forest and different feattures"
   ]
  },
  {
   "cell_type": "code",
   "execution_count": 42,
   "id": "a0b488a2",
   "metadata": {
    "scrolled": false
   },
   "outputs": [],
   "source": [
    "RF=RandomForestRegressor(n_estimators=100,random_state=0)\n",
    "Model1_df_HFR_NO_FE=RF.fit(X1_df_HFR_NO_FE_train,Y_train)\n",
    "Y_Pred_df_HFR_NO_FE=Model1_df_HFR_NO_FE.predict(X1_df_HFR_NO_FE_test)"
   ]
  },
  {
   "cell_type": "code",
   "execution_count": 43,
   "id": "a8bb1581",
   "metadata": {
    "scrolled": false
   },
   "outputs": [],
   "source": [
    "RF=RandomForestRegressor(n_estimators=100,random_state=0)\n",
    "Model1_df_HFR_combined=RF.fit(X1_df_HFR_combined,Y_train)\n",
    "Y_Pred_df_HFR_combined=Model1_df_HFR_combined.predict(X1_df_HFR_combined_test)"
   ]
  },
  {
   "cell_type": "code",
   "execution_count": 44,
   "id": "c3c647d0",
   "metadata": {
    "scrolled": false
   },
   "outputs": [],
   "source": [
    "RF=RandomForestRegressor(n_estimators=100,random_state=0)\n",
    "Model1_df_HFR_mi=RF.fit(X1_df_HFR_mi_train,Y_train)\n",
    "Y_Pred_df_HFR_mi=Model1_df_HFR_mi.predict(X1_df_HFR_mi_test)"
   ]
  },
  {
   "cell_type": "code",
   "execution_count": 45,
   "id": "2419594b",
   "metadata": {
    "scrolled": false
   },
   "outputs": [],
   "source": [
    "RF=RandomForestRegressor(n_estimators=100,random_state=0)\n",
    "Model1_df_HFR_F=RF.fit(X1_df_HFR_F_train,Y_train)\n",
    "Y_Pred_df_HFR_F=Model1_df_HFR_F.predict(X1_df_HFR_F_test)"
   ]
  },
  {
   "cell_type": "code",
   "execution_count": 46,
   "id": "bc270f28",
   "metadata": {
    "scrolled": false
   },
   "outputs": [],
   "source": [
    "RF=RandomForestRegressor(n_estimators=100,random_state=0)\n",
    "Model1_df_HFR_cost=RF.fit(X1_df_HFR_cost_train,Y_train)\n",
    "Y_Pred_df_HFR_cost=Model1_df_HFR_cost.predict(X1_df_HFR_cost_test)"
   ]
  },
  {
   "cell_type": "markdown",
   "id": "959db48e",
   "metadata": {},
   "source": [
    "Evaluating the model"
   ]
  },
  {
   "cell_type": "code",
   "execution_count": 47,
   "id": "ae1b18da",
   "metadata": {
    "scrolled": false
   },
   "outputs": [],
   "source": [
    "mse_df_HFR_NO_FE=mean_squared_error(Y_test,Y_Pred_df_HFR_NO_FE)\n",
    "r2_df_HFR_NO_FE=r2_score(Y_test,Y_Pred_df_HFR_NO_FE)"
   ]
  },
  {
   "cell_type": "code",
   "execution_count": 48,
   "id": "06439f62",
   "metadata": {
    "scrolled": false
   },
   "outputs": [],
   "source": [
    "mse_df_HFR_combined=mean_squared_error(Y_test,Y_Pred_df_HFR_combined)\n",
    "r2_df_HFR_combined=r2_score(Y_test,Y_Pred_df_HFR_combined)"
   ]
  },
  {
   "cell_type": "code",
   "execution_count": 49,
   "id": "e9bc3390",
   "metadata": {
    "scrolled": false
   },
   "outputs": [],
   "source": [
    "mse_df_HFR_mi=mean_squared_error(Y_test,Y_Pred_df_HFR_mi)\n",
    "r2_df_HFR_mi=r2_score(Y_test,Y_Pred_df_HFR_mi)"
   ]
  },
  {
   "cell_type": "code",
   "execution_count": 50,
   "id": "516a1335",
   "metadata": {
    "scrolled": false
   },
   "outputs": [],
   "source": [
    "mse_df_HFR_F=mean_squared_error(Y_test,Y_Pred_df_HFR_F)\n",
    "r2_df_HFR_F=r2_score(Y_test,Y_Pred_df_HFR_F)"
   ]
  },
  {
   "cell_type": "code",
   "execution_count": 51,
   "id": "4d949193",
   "metadata": {
    "scrolled": false
   },
   "outputs": [],
   "source": [
    "mse_df_HFR_cost=mean_squared_error(Y_test,Y_Pred_df_HFR_cost)\n",
    "r2_df_HFR_cost=r2_score(Y_test,Y_Pred_df_HFR_cost)"
   ]
  },
  {
   "cell_type": "markdown",
   "id": "fdb77c3f",
   "metadata": {},
   "source": [
    "Error MSE"
   ]
  },
  {
   "cell_type": "code",
   "execution_count": 52,
   "id": "5421a183",
   "metadata": {
    "scrolled": false
   },
   "outputs": [
    {
     "name": "stdout",
     "output_type": "stream",
     "text": [
      "mse_df_HFR_NO_FE 1.3670766833059364e-12\n"
     ]
    }
   ],
   "source": [
    "print(\"mse_df_HFR_NO_FE\",mse_df_HFR_NO_FE)\n",
    "#r2"
   ]
  },
  {
   "cell_type": "code",
   "execution_count": 53,
   "id": "ef3ea5a1",
   "metadata": {
    "scrolled": false
   },
   "outputs": [
    {
     "name": "stdout",
     "output_type": "stream",
     "text": [
      "mse_df_HFR_combined: 1.3274701253583365e-12\n"
     ]
    }
   ],
   "source": [
    "print(\"mse_df_HFR_combined:\",mse_df_HFR_combined)"
   ]
  },
  {
   "cell_type": "code",
   "execution_count": 54,
   "id": "79f4ad7a",
   "metadata": {
    "scrolled": false
   },
   "outputs": [
    {
     "name": "stdout",
     "output_type": "stream",
     "text": [
      "mse_df_HFR_mi: 1.3639988587973544e-12\n"
     ]
    }
   ],
   "source": [
    "print(\"mse_df_HFR_mi:\",mse_df_HFR_mi)"
   ]
  },
  {
   "cell_type": "code",
   "execution_count": 55,
   "id": "16099f5d",
   "metadata": {
    "scrolled": false
   },
   "outputs": [
    {
     "name": "stdout",
     "output_type": "stream",
     "text": [
      "mse_df_HFR_F: 1.3915596226737237e-12\n"
     ]
    }
   ],
   "source": [
    "print(\"mse_df_HFR_F:\",mse_df_HFR_F)"
   ]
  },
  {
   "cell_type": "code",
   "execution_count": 56,
   "id": "1579bacb",
   "metadata": {
    "scrolled": false
   },
   "outputs": [
    {
     "name": "stdout",
     "output_type": "stream",
     "text": [
      "mse_df_HFR_cost: 1.3571377638054495e-12\n"
     ]
    }
   ],
   "source": [
    "print(\"mse_df_HFR_cost:\",mse_df_HFR_cost)"
   ]
  },
  {
   "cell_type": "markdown",
   "id": "e9fc8e5e",
   "metadata": {},
   "source": [
    "COFFICIENT r2"
   ]
  },
  {
   "cell_type": "code",
   "execution_count": 57,
   "id": "5641159e",
   "metadata": {
    "scrolled": false
   },
   "outputs": [
    {
     "name": "stdout",
     "output_type": "stream",
     "text": [
      "r2_df_HFR_NO_FE: 0.8861402120909857\n"
     ]
    }
   ],
   "source": [
    "print(\"r2_df_HFR_NO_FE:\",r2_df_HFR_NO_FE)"
   ]
  },
  {
   "cell_type": "code",
   "execution_count": 58,
   "id": "44748deb",
   "metadata": {
    "scrolled": false
   },
   "outputs": [
    {
     "name": "stdout",
     "output_type": "stream",
     "text": [
      "r2_df_HFR_combined: 0.8894389255741346\n"
     ]
    }
   ],
   "source": [
    "print(\"r2_df_HFR_combined:\",r2_df_HFR_combined)"
   ]
  },
  {
   "cell_type": "code",
   "execution_count": 59,
   "id": "0175db7a",
   "metadata": {
    "scrolled": false
   },
   "outputs": [
    {
     "name": "stdout",
     "output_type": "stream",
     "text": [
      "r2_df_HFR_mi: 0.8863965550233521\n"
     ]
    }
   ],
   "source": [
    "print(\"r2_df_HFR_mi:\",r2_df_HFR_mi)"
   ]
  },
  {
   "cell_type": "code",
   "execution_count": 60,
   "id": "a7a5daf8",
   "metadata": {
    "scrolled": false
   },
   "outputs": [
    {
     "name": "stdout",
     "output_type": "stream",
     "text": [
      "r2_df_HFR_F: 0.8841011002270746\n"
     ]
    }
   ],
   "source": [
    "print(\"r2_df_HFR_F:\",r2_df_HFR_F)"
   ]
  },
  {
   "cell_type": "code",
   "execution_count": 61,
   "id": "94296e2e",
   "metadata": {
    "scrolled": false
   },
   "outputs": [
    {
     "name": "stdout",
     "output_type": "stream",
     "text": [
      "r2_df_HFR_cost: 0.8869679954042331\n"
     ]
    }
   ],
   "source": [
    "print(\"r2_df_HFR_cost:\",r2_df_HFR_cost)"
   ]
  },
  {
   "cell_type": "markdown",
   "id": "29fa786d",
   "metadata": {},
   "source": [
    "Plotting the accumlated evaluation score"
   ]
  },
  {
   "cell_type": "code",
   "execution_count": 62,
   "id": "e6631528",
   "metadata": {
    "scrolled": true
   },
   "outputs": [],
   "source": [
    "#pip install shap"
   ]
  },
  {
   "cell_type": "code",
   "execution_count": 63,
   "id": "3f759226",
   "metadata": {
    "scrolled": true
   },
   "outputs": [],
   "source": [
    "#Model explanantion by SHAP"
   ]
  },
  {
   "cell_type": "code",
   "execution_count": 64,
   "id": "8dbcbb85",
   "metadata": {
    "scrolled": true
   },
   "outputs": [],
   "source": [
    "import shap"
   ]
  },
  {
   "cell_type": "code",
   "execution_count": 65,
   "id": "71f4dea7",
   "metadata": {
    "scrolled": true
   },
   "outputs": [],
   "source": [
    "#HAP Explainer based  trained model(ALL FEATURES)\n",
    "explainer = shap.TreeExplainer(Model1_df_HFR_NO_FE)"
   ]
  },
  {
   "cell_type": "code",
   "execution_count": 66,
   "id": "f81e9b1d",
   "metadata": {
    "scrolled": true
   },
   "outputs": [],
   "source": [
    "#SHAP values \n",
    "#shap_values = explainer.shap_values(X1_df_HFR_NO_FE_test)\n",
    "explainer = shap.TreeExplainer(Model1_df_HFR_NO_FE)\n",
    "shap_values = explainer.shap_values(X1_df_HFR_NO_FE_train)"
   ]
  },
  {
   "cell_type": "code",
   "execution_count": 67,
   "id": "1425e32e",
   "metadata": {
    "scrolled": false
   },
   "outputs": [
    {
     "data": {
      "image/png": "[encoded data removed]",
      "text/plain": [
       "<Figure size 800x950 with 2 Axes>"
      ]
     },
     "metadata": {},
     "output_type": "display_data"
    }
   ],
   "source": [
    "#Visualize SHAP explanations\n",
    "shap.summary_plot(shap_values, X1_df_HFR_NO_FE_train)"
   ]
  },
  {
   "cell_type": "code",
   "execution_count": 71,
   "id": "c973e8ce",
   "metadata": {
    "scrolled": true
   },
   "outputs": [
    {
     "name": "stderr",
     "output_type": "stream",
     "text": [
      "C:\\Users\\user\\AppData\\Roaming\\Python\\Python311\\site-packages\\shap\\plots\\_beeswarm.py:1155: UserWarning: Matplotlib is currently using agg, which is a non-GUI backend, so cannot show the figure.\n",
      "  pl.show()\n"
     ]
    }
   ],
   "source": [
    "import shap\n",
    "import matplotlib.pyplot as plt\n",
    "\n",
    "shap.summary_plot(shap_values, X1_df_HFR_NO_FE_train)\n",
    "fig = plt.gcf()\n",
    "fig.set_size_inches(6.85, 3.5)\n",
    "fig.savefig(\"Fig7.pdf\", format=\"pdf\", bbox_inches=\"tight\")\n",
    "fig.savefig(\"Fig7.pdf\", format=\"pdf\", bbox_inches=\"tight\")\n",
    "fig.savefig(\"Fig6.jpeg\", format=\"pdf\", bbox_inches=\"tight\")\n",
    "plt.close()"
   ]
  },
  {
   "cell_type": "code",
   "execution_count": 158,
   "id": "92f9d9b0",
   "metadata": {
    "scrolled": true
   },
   "outputs": [],
   "source": [
    "#LIME EXPLANATION"
   ]
  },
  {
   "cell_type": "markdown",
   "id": "0328c423",
   "metadata": {},
   "source": [
    "Fig.7 LIME Explanantion"
   ]
  },
  {
   "cell_type": "code",
   "execution_count": 77,
   "id": "de2a9853",
   "metadata": {},
   "outputs": [
    {
     "name": "stderr",
     "output_type": "stream",
     "text": [
      "C:\\Users\\user\\AppData\\Roaming\\Python\\Python311\\site-packages\\lime\\discretize.py:110: FutureWarning: Series.__getitem__ treating keys as positions is deprecated. In a future version, integer keys will always be treated as labels (consistent with DataFrame behavior). To access a value by position, use `ser.iloc[pos]`\n",
      "  ret[feature] = int(self.lambdas[feature](ret[feature]))\n",
      "C:\\Users\\user\\AppData\\Roaming\\Python\\Python311\\site-packages\\lime\\discretize.py:110: FutureWarning: Series.__setitem__ treating keys as positions is deprecated. In a future version, integer keys will always be treated as labels (consistent with DataFrame behavior). To set a value by position, use `ser.iloc[pos] = value`\n",
      "  ret[feature] = int(self.lambdas[feature](ret[feature]))\n",
      "C:\\Users\\user\\AppData\\Roaming\\Python\\Python311\\site-packages\\lime\\lime_tabular.py:544: FutureWarning: Series.__getitem__ treating keys as positions is deprecated. In a future version, integer keys will always be treated as labels (consistent with DataFrame behavior). To access a value by position, use `ser.iloc[pos]`\n",
      "  binary_column = (inverse_column == first_row[column]).astype(int)\n",
      "C:\\Users\\user\\AppData\\Roaming\\Python\\Python311\\site-packages\\sklearn\\utils\\validation.py:2739: UserWarning: X does not have valid feature names, but RandomForestRegressor was fitted with feature names\n",
      "  warnings.warn(\n",
      "C:\\Users\\user\\AppData\\Roaming\\Python\\Python311\\site-packages\\lime\\discretize.py:110: FutureWarning: Series.__getitem__ treating keys as positions is deprecated. In a future version, integer keys will always be treated as labels (consistent with DataFrame behavior). To access a value by position, use `ser.iloc[pos]`\n",
      "  ret[feature] = int(self.lambdas[feature](ret[feature]))\n",
      "C:\\Users\\user\\AppData\\Roaming\\Python\\Python311\\site-packages\\lime\\discretize.py:110: FutureWarning: Series.__setitem__ treating keys as positions is deprecated. In a future version, integer keys will always be treated as labels (consistent with DataFrame behavior). To set a value by position, use `ser.iloc[pos] = value`\n",
      "  ret[feature] = int(self.lambdas[feature](ret[feature]))\n",
      "C:\\Users\\user\\AppData\\Roaming\\Python\\Python311\\site-packages\\lime\\lime_tabular.py:427: FutureWarning: Series.__getitem__ treating keys as positions is deprecated. In a future version, integer keys will always be treated as labels (consistent with DataFrame behavior). To access a value by position, use `ser.iloc[pos]`\n",
      "  discretized_instance[f])]\n"
     ]
    }
   ],
   "source": [
    "import numpy as np\n",
    "import matplotlib.pyplot as plt\n",
    "from lime import lime_tabular\n",
    "from matplotlib import rcParams\n",
    "\n",
    "# Springer-compliant font setup\n",
    "rcParams['font.family'] = 'Arial'\n",
    "rcParams['font.size'] = 10\n",
    "rcParams['axes.labelsize'] = 10\n",
    "rcParams['xtick.labelsize'] = 10\n",
    "rcParams['ytick.labelsize'] = 10\n",
    "rcParams['axes.titlesize'] = 10  # Even if not used\n",
    "\n",
    "# LIME explainer setup\n",
    "explainer = lime_tabular.LimeTabularExplainer(\n",
    "    training_data=np.array(X1_df_HFR_NO_FE_train),\n",
    "    feature_names=X1_df_HFR_NO_FE_train.columns.tolist(),\n",
    "    class_names=['prediction'],\n",
    "    mode='regression'\n",
    ")\n",
    "\n",
    "# Select one instance to explain\n",
    "instance_to_explain = X1_df_HFR_NO_FE_train.iloc[49]\n",
    "\n",
    "# Get explanation\n",
    "explanation = explainer.explain_instance(\n",
    "    data_row=instance_to_explain,\n",
    "    predict_fn=Model1_df_HFR_NO_FE.predict,\n",
    "    num_features=len(X1_df_HFR_NO_FE_train.columns)\n",
    ")\n",
    "\n",
    "# Extract top 20 features by importance\n",
    "feature_importance = explanation.as_list()\n",
    "top_20 = sorted(feature_importance, key=lambda x: abs(x[1]), reverse=True)[:20]\n",
    "names = [name for name, _ in top_20]\n",
    "values = [value for _, value in top_20]\n",
    "colors = ['green' if val > 0 else 'red' for val in values]\n",
    "\n",
    "# Plot — clean, 1-column width (Springer), no title\n",
    "plt.figure(figsize=(6.85, 3.5))  # 84 mm width ~ Springer single column\n",
    "plt.barh(names, values, color=colors)\n",
    "plt.xlabel('LIME value')\n",
    "plt.ylabel('Feature')\n",
    "plt.gca().invert_yaxis()\n",
    "plt.grid(axis='x', linestyle='--', linewidth=0.5)\n",
    "\n",
    "# Save in Springer-friendly formats\n",
    "plt.tight_layout()\n",
    "plt.savefig(\"Fig8x.pdf\", format=\"pdf\", dpi=300, bbox_inches=\"tight\")\n",
    "plt.savefig(\"Fig8x.eps\", format=\"eps\", dpi=300, bbox_inches=\"tight\")\n",
    "plt.savefig(\"Fig7.jpeg\", format=\"jpeg\", dpi=300, bbox_inches=\"tight\")\n",
    "plt.close()\n"
   ]
  },
  {
   "cell_type": "markdown",
   "id": "d70e7582",
   "metadata": {},
   "source": [
    "Flowchart"
   ]
  },
  {
   "cell_type": "markdown",
   "id": "61cf0a62",
   "metadata": {},
   "source": [
    "Figure1 Flowcharchat"
   ]
  },
  {
   "cell_type": "code",
   "execution_count": 79,
   "id": "059805f6",
   "metadata": {},
   "outputs": [
    {
     "data": {
      "text/plain": [
       "'Fig1.pdf'"
      ]
     },
     "execution_count": 79,
     "metadata": {},
     "output_type": "execute_result"
    }
   ],
   "source": [
    "from graphviz import Digraph\n",
    "from IPython.display import Image, display\n",
    "\n",
    "# Create a new Digraph for the full process\n",
    "full_flowchart = Digraph(format=\"pdf\")\n",
    "full_flowchart.attr(rankdir=\"TB\", size=\"12\", bgcolor=\"white\",fontname=\"Arial\", fontsize=\"10\")\n",
    "\n",
    "# === Phase 1: Model Selection ===\n",
    "full_flowchart.node(\"A\", \"Features subsets\", shape=\"ellipse\", style=\"filled\", fillcolor=\"lightgray\")\n",
    "\n",
    "# Feature Subsets\n",
    "full_flowchart.node(\"B1\", \"All Features Subset\", shape=\"box\")\n",
    "full_flowchart.node(\"B2\", \"Subsets of x Features \", shape=\"box\")\n",
    "#full_flowchart.node(\"B3\", \"Subsets of 10 Features\", shape=\"box\")\n",
    "\n",
    "# Models\n",
    "full_flowchart.node(\"C\", \"Candidate Models:\\nSVR, PLS, GB, RF, ANN\", shape=\"ellipse\", style=\"filled\", fillcolor=\"lightblue\")\n",
    "\n",
    "# Training and Evaluation\n",
    "full_flowchart.node(\"D\", \"Train & Evaluate on Each Subset\", shape=\"box\")\n",
    "full_flowchart.node(\"E\", \"Track R² & MSE\", shape=\"box\")\n",
    "full_flowchart.node(\"F\", \"Compare Model Performance\", shape=\"box\")\n",
    "full_flowchart.node(\"G\", \"Select Best Model\", shape=\"parallelogram\", style=\"filled\", fillcolor=\"lightgreen\")\n",
    "\n",
    "# Connections for Phase 1\n",
    "full_flowchart.edge(\"A\", \"B1\")\n",
    "full_flowchart.edge(\"A\", \"B2\")\n",
    "#full_flowchart.edge(\"A\", \"B3\")\n",
    "full_flowchart.edge(\"B1\", \"C\")\n",
    "full_flowchart.edge(\"B2\", \"C\")\n",
    "#full_flowchart.edge(\"B3\", \"C\")\n",
    "full_flowchart.edge(\"C\", \"D\")\n",
    "full_flowchart.edge(\"D\", \"E\")\n",
    "full_flowchart.edge(\"E\", \"F\")\n",
    "full_flowchart.edge(\"F\", \"G\")\n",
    "\n",
    "# === Phase 2: Feature Evaluation using Best Model ===\n",
    "full_flowchart.node(\"H\", \"Sort by Scores(MI, FR, HMF, Cost-Based)\", shape=\"ellipse\", style=\"filled\", fillcolor=\"lightyellow\")\n",
    "full_flowchart.node(\"I\", \"Incremental Feature Addition\", shape=\"ellipse\", style=\"filled\", fillcolor=\"lightgreen\")\n",
    "full_flowchart.node(\"J\", \"Train Best Model\", shape=\"box\")\n",
    "full_flowchart.node(\"K\", \"Evaluate MSE & R²\", shape=\"box\")\n",
    "full_flowchart.node(\"L\", \"Track Metrics\", shape=\"ellipse\", style=\"filled\", fillcolor=\"yellow\")\n",
    "full_flowchart.node(\"M1\", \"Subset of Features\", shape=\"box\")\n",
    "full_flowchart.node(\"M2\", \"MSE and R² Scores\", shape=\"box\")\n",
    "full_flowchart.node(\"N\", \"Identify Performing Zone\", shape=\"ellipse\", style=\"filled\", fillcolor=\"orange\")\n",
    "full_flowchart.node(\"O\", \"Compare Extraction Methods\", shape=\"box\")\n",
    "full_flowchart.node(\"P\", \"Select Best Extraction Method\", shape=\"parallelogram\", style=\"filled\", fillcolor=\"lightcoral\")\n",
    "full_flowchart.node(\"Q\", \"Final Output: Critical and Cost-Effective Features Subset\", shape=\"parallelogram\", style=\"filled\", fillcolor=\"lightgray\")\n",
    "\n",
    "# Connections for Phase 2\n",
    "#full_flowchart.edge(\"G\", \"H\")\n",
    "full_flowchart.edge(\"H\", \"I\")\n",
    "full_flowchart.edge(\"I\", \"J\")\n",
    "full_flowchart.edge(\"J\", \"K\")\n",
    "full_flowchart.edge(\"K\", \"I\", label=\"Iterate\")\n",
    "full_flowchart.edge(\"I\", \"L\")\n",
    "full_flowchart.edge(\"L\", \"M1\")\n",
    "full_flowchart.edge(\"L\", \"M2\")\n",
    "full_flowchart.edge(\"L\", \"N\")\n",
    "full_flowchart.edge(\"N\", \"O\")\n",
    "full_flowchart.edge(\"O\", \"P\")\n",
    "full_flowchart.edge(\"P\", \"Q\")\n",
    "\n",
    "# Render and display the full flowchart\n",
    "full_flowchart.render(\"Fig1\")\n",
    "#display(Image(filename=\"full_feature_selection_flowchart.pdf\"))"
   ]
  },
  {
   "cell_type": "code",
   "execution_count": null,
   "id": "d46a751a",
   "metadata": {},
   "outputs": [],
   "source": []
  },
  {
   "cell_type": "code",
   "execution_count": null,
   "id": "58a902b7",
   "metadata": {},
   "outputs": [],
   "source": []
  }
 ],
 "metadata": {
  "kernelspec": {
   "display_name": "Python 3 (ipykernel)",
   "language": "python",
   "name": "python3"
  },
  "language_info": {
   "codemirror_mode": {
    "name": "ipython",
    "version": 3
   },
   "file_extension": ".py",
   "mimetype": "text/x-python",
   "name": "python",
   "nbconvert_exporter": "python",
   "pygments_lexer": "ipython3",
   "version": "3.11.5"
  }
 },
 "nbformat": 4,
 "nbformat_minor": 5
}
